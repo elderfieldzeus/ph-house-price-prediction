{
 "cells": [
  {
   "cell_type": "markdown",
   "id": "2115c6b7-20f6-44b7-b3e9-da0ef40334b7",
   "metadata": {},
   "source": [
    "# Predicting House Prices in the Philippines"
   ]
  },
  {
   "cell_type": "markdown",
   "id": "732d07d8-698d-41de-a173-91f4926bdbc8",
   "metadata": {},
   "source": [
    "## Dataset:\n",
    "\n",
    "Housing Prices Dataset - Philippines - Jandrik Luna\n",
    "\n",
    "Source: https://www.kaggle.com/datasets/linkanjarad/housing-prices-dataset-philippines"
   ]
  },
  {
   "cell_type": "markdown",
   "id": "af78925f-161f-43e6-a520-f875c03c7746",
   "metadata": {},
   "source": [
    "## Import Libraries"
   ]
  },
  {
   "cell_type": "code",
   "execution_count": 79,
   "id": "0ef5b2c9-f16e-4903-a2cb-fc296e559262",
   "metadata": {},
   "outputs": [],
   "source": [
    "import numpy as np\n",
    "import pandas as pd\n",
    "\n",
    "from sklearn.model_selection import train_test_split\n",
    "from sklearn.impute import SimpleImputer\n",
    "from sklearn.linear_model import LinearRegression\n",
    "from sklearn.metrics import accuracy_score"
   ]
  },
  {
   "cell_type": "markdown",
   "id": "bd817625-4c23-4da8-ae46-4bf197bcb8a0",
   "metadata": {},
   "source": [
    "## Set Global Variables"
   ]
  },
  {
   "cell_type": "code",
   "execution_count": 80,
   "id": "81527d1e-8ede-4719-b672-e1756767f072",
   "metadata": {},
   "outputs": [],
   "source": [
    "path1 = './dataset/Housing Prices Philippines Lamudi.csv'\n",
    "path2 = './dataset/Housing Prices Imputed.csv'"
   ]
  },
  {
   "cell_type": "markdown",
   "id": "a5fc412e-6d37-4aa1-90d4-fcddbba77f36",
   "metadata": {},
   "source": [
    "## Import dataset"
   ]
  },
  {
   "cell_type": "code",
   "execution_count": 81,
   "id": "30434771-f23f-4581-b8a3-6e75eb096871",
   "metadata": {},
   "outputs": [
    {
     "data": {
      "text/html": [
       "<div>\n",
       "<style scoped>\n",
       "    .dataframe tbody tr th:only-of-type {\n",
       "        vertical-align: middle;\n",
       "    }\n",
       "\n",
       "    .dataframe tbody tr th {\n",
       "        vertical-align: top;\n",
       "    }\n",
       "\n",
       "    .dataframe thead th {\n",
       "        text-align: right;\n",
       "    }\n",
       "</style>\n",
       "<table border=\"1\" class=\"dataframe\">\n",
       "  <thead>\n",
       "    <tr style=\"text-align: right;\">\n",
       "      <th></th>\n",
       "      <th>Unnamed: 0</th>\n",
       "      <th>Title</th>\n",
       "      <th>Bathrooms</th>\n",
       "      <th>Bedrooms</th>\n",
       "      <th>Car Spaces</th>\n",
       "      <th>Floor area (m²)</th>\n",
       "      <th>Land Size (m²)</th>\n",
       "      <th>Subdivision name</th>\n",
       "      <th>Block and Lot/Unit Number</th>\n",
       "      <th>Build (Year)</th>\n",
       "      <th>Rooms (total)</th>\n",
       "      <th>Price</th>\n",
       "    </tr>\n",
       "  </thead>\n",
       "  <tbody>\n",
       "    <tr>\n",
       "      <th>2994</th>\n",
       "      <td>2994</td>\n",
       "      <td>Price Reduced - 5 Bedroom,4 Bathroom Fully Fur...</td>\n",
       "      <td>4.0</td>\n",
       "      <td>5.0</td>\n",
       "      <td>NaN</td>\n",
       "      <td>372.00</td>\n",
       "      <td>300.0</td>\n",
       "      <td>Villas Magallanes</td>\n",
       "      <td>NaN</td>\n",
       "      <td>NaN</td>\n",
       "      <td>NaN</td>\n",
       "      <td>16000000.0</td>\n",
       "    </tr>\n",
       "    <tr>\n",
       "      <th>2995</th>\n",
       "      <td>2995</td>\n",
       "      <td>House Mediterranean Design Luxurious home For ...</td>\n",
       "      <td>4.0</td>\n",
       "      <td>4.0</td>\n",
       "      <td>6.0</td>\n",
       "      <td>350.00</td>\n",
       "      <td>1056.0</td>\n",
       "      <td>Ma. Luisa Estate Park</td>\n",
       "      <td>1</td>\n",
       "      <td>NaN</td>\n",
       "      <td>6.0</td>\n",
       "      <td>85000000.0</td>\n",
       "    </tr>\n",
       "    <tr>\n",
       "      <th>2996</th>\n",
       "      <td>2996</td>\n",
       "      <td>For Sale: 2-Bedroom Danessa Single Attached Ho...</td>\n",
       "      <td>1.0</td>\n",
       "      <td>2.0</td>\n",
       "      <td>1.0</td>\n",
       "      <td>37.30</td>\n",
       "      <td>169.0</td>\n",
       "      <td>Pineview</td>\n",
       "      <td>Phase 3 Block 13 Lot 20</td>\n",
       "      <td>NaN</td>\n",
       "      <td>NaN</td>\n",
       "      <td>2844000.0</td>\n",
       "    </tr>\n",
       "    <tr>\n",
       "      <th>2997</th>\n",
       "      <td>2997</td>\n",
       "      <td>For Sale RFO 4BR Single Detached House and Lot...</td>\n",
       "      <td>3.0</td>\n",
       "      <td>4.0</td>\n",
       "      <td>1.0</td>\n",
       "      <td>198.26</td>\n",
       "      <td>217.0</td>\n",
       "      <td>Bougainvillea Residences</td>\n",
       "      <td>Blk 8 Lot 1</td>\n",
       "      <td>NaN</td>\n",
       "      <td>4.0</td>\n",
       "      <td>7676915.0</td>\n",
       "    </tr>\n",
       "    <tr>\n",
       "      <th>2998</th>\n",
       "      <td>2998</td>\n",
       "      <td>House For Sale 3BR TH in Bloomfield Homes II-S...</td>\n",
       "      <td>1.0</td>\n",
       "      <td>3.0</td>\n",
       "      <td>NaN</td>\n",
       "      <td>86.00</td>\n",
       "      <td>72.0</td>\n",
       "      <td>Bloomfield Homes</td>\n",
       "      <td>Blk 2 Lot 3</td>\n",
       "      <td>NaN</td>\n",
       "      <td>NaN</td>\n",
       "      <td>2650000.0</td>\n",
       "    </tr>\n",
       "  </tbody>\n",
       "</table>\n",
       "</div>"
      ],
      "text/plain": [
       "      Unnamed: 0  ...       Price\n",
       "2994        2994  ...  16000000.0\n",
       "2995        2995  ...  85000000.0\n",
       "2996        2996  ...   2844000.0\n",
       "2997        2997  ...   7676915.0\n",
       "2998        2998  ...   2650000.0\n",
       "\n",
       "[5 rows x 12 columns]"
      ]
     },
     "execution_count": 81,
     "metadata": {},
     "output_type": "execute_result"
    }
   ],
   "source": [
    "dataset = pd.read_csv(path1)\n",
    "\n",
    "dataset.tail()"
   ]
  },
  {
   "cell_type": "markdown",
   "id": "9370c8af-55ba-40da-a66c-b4fa183be9d8",
   "metadata": {},
   "source": [
    "## Keep Relevant Features"
   ]
  },
  {
   "cell_type": "code",
   "execution_count": 82,
   "id": "0b9c19c7-a867-45c4-ba80-a2961eeb6968",
   "metadata": {},
   "outputs": [
    {
     "data": {
      "text/html": [
       "<div>\n",
       "<style scoped>\n",
       "    .dataframe tbody tr th:only-of-type {\n",
       "        vertical-align: middle;\n",
       "    }\n",
       "\n",
       "    .dataframe tbody tr th {\n",
       "        vertical-align: top;\n",
       "    }\n",
       "\n",
       "    .dataframe thead th {\n",
       "        text-align: right;\n",
       "    }\n",
       "</style>\n",
       "<table border=\"1\" class=\"dataframe\">\n",
       "  <thead>\n",
       "    <tr style=\"text-align: right;\">\n",
       "      <th></th>\n",
       "      <th>Bathrooms</th>\n",
       "      <th>Bedrooms</th>\n",
       "      <th>Car Spaces</th>\n",
       "      <th>Floor area (m²)</th>\n",
       "      <th>Land Size (m²)</th>\n",
       "      <th>Price</th>\n",
       "    </tr>\n",
       "  </thead>\n",
       "  <tbody>\n",
       "    <tr>\n",
       "      <th>2994</th>\n",
       "      <td>4.0</td>\n",
       "      <td>5.0</td>\n",
       "      <td>NaN</td>\n",
       "      <td>372.00</td>\n",
       "      <td>300.0</td>\n",
       "      <td>16000000.0</td>\n",
       "    </tr>\n",
       "    <tr>\n",
       "      <th>2995</th>\n",
       "      <td>4.0</td>\n",
       "      <td>4.0</td>\n",
       "      <td>6.0</td>\n",
       "      <td>350.00</td>\n",
       "      <td>1056.0</td>\n",
       "      <td>85000000.0</td>\n",
       "    </tr>\n",
       "    <tr>\n",
       "      <th>2996</th>\n",
       "      <td>1.0</td>\n",
       "      <td>2.0</td>\n",
       "      <td>1.0</td>\n",
       "      <td>37.30</td>\n",
       "      <td>169.0</td>\n",
       "      <td>2844000.0</td>\n",
       "    </tr>\n",
       "    <tr>\n",
       "      <th>2997</th>\n",
       "      <td>3.0</td>\n",
       "      <td>4.0</td>\n",
       "      <td>1.0</td>\n",
       "      <td>198.26</td>\n",
       "      <td>217.0</td>\n",
       "      <td>7676915.0</td>\n",
       "    </tr>\n",
       "    <tr>\n",
       "      <th>2998</th>\n",
       "      <td>1.0</td>\n",
       "      <td>3.0</td>\n",
       "      <td>NaN</td>\n",
       "      <td>86.00</td>\n",
       "      <td>72.0</td>\n",
       "      <td>2650000.0</td>\n",
       "    </tr>\n",
       "  </tbody>\n",
       "</table>\n",
       "</div>"
      ],
      "text/plain": [
       "      Bathrooms  Bedrooms  ...  Land Size (m²)       Price\n",
       "2994        4.0       5.0  ...           300.0  16000000.0\n",
       "2995        4.0       4.0  ...          1056.0  85000000.0\n",
       "2996        1.0       2.0  ...           169.0   2844000.0\n",
       "2997        3.0       4.0  ...           217.0   7676915.0\n",
       "2998        1.0       3.0  ...            72.0   2650000.0\n",
       "\n",
       "[5 rows x 6 columns]"
      ]
     },
     "execution_count": 82,
     "metadata": {},
     "output_type": "execute_result"
    }
   ],
   "source": [
    "dataset = dataset[[\n",
    "    'Bathrooms',\n",
    "    'Bedrooms',\n",
    "    'Car Spaces',\n",
    "    'Floor area (m²)',\n",
    "    'Land Size (m²)',\n",
    "    'Price'\n",
    "]]\n",
    "\n",
    "dataset.tail()"
   ]
  },
  {
   "cell_type": "markdown",
   "id": "9ece7e82-fc96-43ed-8f48-a79f8e5d26de",
   "metadata": {},
   "source": [
    "## Inspect Dataset"
   ]
  },
  {
   "cell_type": "code",
   "execution_count": 83,
   "id": "7aae6a2c-ebb1-4ef2-ba97-ddbefe6e461e",
   "metadata": {},
   "outputs": [
    {
     "name": "stdout",
     "output_type": "stream",
     "text": [
      "<class 'pandas.core.frame.DataFrame'>\n",
      "RangeIndex: 2999 entries, 0 to 2998\n",
      "Data columns (total 6 columns):\n",
      " #   Column           Non-Null Count  Dtype  \n",
      "---  ------           --------------  -----  \n",
      " 0   Bathrooms        2238 non-null   float64\n",
      " 1   Bedrooms         2275 non-null   float64\n",
      " 2   Car Spaces       1211 non-null   float64\n",
      " 3   Floor area (m²)  2917 non-null   float64\n",
      " 4   Land Size (m²)   2844 non-null   float64\n",
      " 5   Price            2924 non-null   float64\n",
      "dtypes: float64(6)\n",
      "memory usage: 140.7 KB\n"
     ]
    }
   ],
   "source": [
    "dataset.info()"
   ]
  },
  {
   "cell_type": "code",
   "execution_count": 84,
   "id": "86bc3421-519c-4f09-b2a3-fdbdab0a2cbc",
   "metadata": {},
   "outputs": [
    {
     "data": {
      "text/plain": [
       "Bathrooms          float64\n",
       "Bedrooms           float64\n",
       "Car Spaces         float64\n",
       "Floor area (m²)    float64\n",
       "Land Size (m²)     float64\n",
       "Price              float64\n",
       "dtype: object"
      ]
     },
     "execution_count": 84,
     "metadata": {},
     "output_type": "execute_result"
    }
   ],
   "source": [
    "dataset.dtypes"
   ]
  },
  {
   "cell_type": "code",
   "execution_count": 85,
   "id": "a9246579-b5a5-4d4d-bdee-48fe919a66b1",
   "metadata": {},
   "outputs": [
    {
     "data": {
      "text/plain": [
       "(2999, 6)"
      ]
     },
     "execution_count": 85,
     "metadata": {},
     "output_type": "execute_result"
    }
   ],
   "source": [
    "dataset.shape"
   ]
  },
  {
   "cell_type": "code",
   "execution_count": 86,
   "id": "3fe477a2-5423-48d9-a9da-e8cf705c85cd",
   "metadata": {},
   "outputs": [
    {
     "data": {
      "text/plain": [
       "Bathrooms           761\n",
       "Bedrooms            724\n",
       "Car Spaces         1788\n",
       "Floor area (m²)      82\n",
       "Land Size (m²)      155\n",
       "Price                75\n",
       "dtype: int64"
      ]
     },
     "execution_count": 86,
     "metadata": {},
     "output_type": "execute_result"
    }
   ],
   "source": [
    "dataset.isna().sum()"
   ]
  },
  {
   "cell_type": "markdown",
   "id": "dd32896a-6063-4960-af94-bbb6cc02047d",
   "metadata": {},
   "source": [
    "## Impute missing data"
   ]
  },
  {
   "cell_type": "code",
   "execution_count": null,
   "id": "baa342e1-e16c-4859-9fbd-6cce645e3942",
   "metadata": {},
   "outputs": [],
   "source": []
  },
  {
   "cell_type": "markdown",
   "id": "cd978999-dc9c-4ee7-bbae-385aa53a91ca",
   "metadata": {},
   "source": [
    "## Split data into input and output"
   ]
  },
  {
   "cell_type": "code",
   "execution_count": 89,
   "id": "e48b2133-ec5d-436e-894f-e812eb5a10e0",
   "metadata": {},
   "outputs": [],
   "source": [
    "X = dataset.drop('Price', axis=1).values\n",
    "y = dataset['Price'].values"
   ]
  }
 ],
 "metadata": {
  "kernelspec": {
   "display_name": "Python (.venv)",
   "language": "python",
   "name": ".venv"
  },
  "language_info": {
   "codemirror_mode": {
    "name": "ipython",
    "version": 3
   },
   "file_extension": ".py",
   "mimetype": "text/x-python",
   "name": "python",
   "nbconvert_exporter": "python",
   "pygments_lexer": "ipython3",
   "version": "3.13.1"
  }
 },
 "nbformat": 4,
 "nbformat_minor": 5
}
